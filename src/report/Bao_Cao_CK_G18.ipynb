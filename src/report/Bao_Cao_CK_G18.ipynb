{
 "cells": [
  {
   "cell_type": "markdown",
   "metadata": {},
   "source": [
    "# Báo cáo tiến độ cuối kỳ Project\n",
    "Lớp TTNT-147729, Nhóm G18"
   ]
  },
  {
   "cell_type": "markdown",
   "metadata": {},
   "source": [
    "## 1. Giới thiệu bài toán, phân công công việc"
   ]
  },
  {
   "cell_type": "markdown",
   "metadata": {},
   "source": [
    "### 1.1. Bài toán: Xây dựng chương trình chơi cờ vua sử dụng trí tuệ nhân tạo\n",
    "#### Giới thiệu về cờ vua:\n",
    "Cờ vua là một trò chơi board game dành cho 2 người sử dụng một bàn cờ hình vuông chia thành 64 ô vuông nhỏ hơn với 8 hàng ngang và 8 hàng dọc. Mỗi người chơi sẽ bắt đầu với 16 quân cờ, bao gồm 8 tốt, 2 mã, 2 tượng, 2 xe, 1 hậu và 1 vua. Mục tiêu của người chơi là cố gắng chiếu hết vua đối phương."
   ]
  },
  {
   "cell_type": "markdown",
   "metadata": {},
   "source": [
    "### 1.2. Phân công công việc:\n",
    "- Lưu Việt Hoàn: Triển khai thuật toán MiniMax\n",
    "- Hà Đình Nam: Thiết kế giao diện\n",
    "- Phạm Hoàng Hải Nam: Triển khai luật trò chơi\n",
    "- Vũ Minh Quân: Hỗ trợ luật trò chơi, kiểm thử và làm báo cáo\n",
    "- Ngô Văn Thức: Triển khai thuật toán cắt tỉa Alpha-Beta"
   ]
  },
  {
   "cell_type": "markdown",
   "metadata": {},
   "source": [
    "## 2. Chi tiết báo cáo"
   ]
  },
  {
   "cell_type": "markdown",
   "metadata": {},
   "source": [
    "### 2.1. Đặt vấn đề\n",
    "#### 2.1.1. Các khái niệm cơ bản\n",
    "##### Cây trò chơi\n",
    "Cây trò chơi (Game tree) - Đại khái là một sơ đồ hình cây thể hiện từng trạng thái, từng trường hợp của trò chơi theo từng nước đi.\n",
    "Mỗi node biểu diễn 1 trạng thái của trò chơi hiện tại trên cây trò chơi.\n",
    "Node được gọi nút lá là tại đó trò chơi kết thúc (trạng thái trò chơi lúc đó có thể thắng, thua hoặc hòa).\n",
    "##### Độ phân nhánh của cây trò chơi\n",
    "Độ phân nhánh của cây trò chơi là số lượng hành động có thể được thực hiện tại mỗi nút. Điều này phụ thuộc vào loại trò chơi. Một trò chơi có độ phân nhánh cao có nhiều lựa chọn hành động tại mỗi bước, trong khi một trò chơi có độ phân nhánh thấp có ít lựa chọn hành động hơn.\n",
    "##### Độ sâu tìm kiếm\n",
    "Độ sâu tìm kiếm trong thuật toán đại diện cho độ sâu của một nút trong cây trò chơi. Độ sâu càng lớn, hàm tìm kiếm càng gần giá trị tối ưu, cũng có nghĩa là “trình độ suy nghĩ” của máy càng cao.\n",
    "Độ sâu lớn đòi hỏi hàm tìm kiếm phải tìm kiếm càng nhiều nút từ đỉnh. Do đó thời gian tìm kiếm càng lâu.\n",
    "![Ví dụ về tìm kiếm trong cây trò chơi với độ sâu](gametree.png)\n",
    "#### 2.1.2. Hàm đánh giá trạng thái\n",
    "Hàm đánh giá là một hàm quan trọng trong việc xây dựng trò chơi cờ vua và các trò chơi đối kháng khác. Một hàm đánh giá tốt giúp hệ thống có đánh giá chính xác về bàn cờ từ đó giúp việc đưa ra lựa chọn chính xác hơn. Trong chương trình của mình, nhóm em sử dụng các tiêu chí sau đây:\n",
    "* Nếu trạng thái dẫn đến thắng cho đội trắng điểm cộng sẽ là 1000 \n",
    "* Nếu trạng thái dẫn đến thắng cho đội đen điểm cộng sẽ là -1000\n",
    "* Điểm chênh lệch giữa hai bên (Các loại quân cờ khác nhau có một điểm số khác nhau, được đánh giá dựa trên mức độ quan trọng và độ hữu dụng trên bàn cờ)\n",
    "#### 2.1.3. Các khó khăn khi giải quyết bài toán\n",
    "##### Độ phân nhánh cao\n",
    "Cờ vua có một độ phân nhánh cây trò chơi cũng tương đối lớn, một người chơi có thể có khoảng 20 - 30 nước di chuyển khả thi. Với độ phân nhánh lớn như vậy, việc tìm kiếm vét cạn là không khả thi. Ví dụ, với một thế cờ, có khả năng đi được 30 nước khác nhau (b=30), với độ sâu d=2, ta có 30x30=900 nút, mỗi nút này lại có khoảng 30 nút con, tổng số nút con ở độ sâu d là 30d. Giả sử độ sâu của cây là 10, số trạng thái cần thăm là 3010 xấp xỉ 5.9 * 1014 trạng thái - một con số quá lớn. Khi tăng độ sâu lên 1, thời gian tìm kiếm có thể tăng khoảng 20 - 30 lần.\n",
    "##### Trò chơi mang tính chiến thuật cao\n",
    "Cờ vua có nhiều chiến thuật đa dạng và để đánh giá một cách chính xác về trạng thái của một quân cờ là rất khó. Nhóm chúng em có tham khảo trên google về việc đánh giá mức độ quan trọng của các quân cờ (gọi là score), để thực hiện trong hàm đánh giá. Từ đó có thể đưa ra một kết quả tốt.\n"
   ]
  },
  {
   "cell_type": "markdown",
   "metadata": {},
   "source": [
    "### 2.2. Thuật toán Minimax\n",
    "#### 2.2.1. Định nghĩa\n",
    "Chiến lược MINIMAX là chiến lược dựa trên nguyên lý sau:\n",
    "1. Một chiến lược tối ưu là một chuỗi các nước đi giúp đưa đến trạng thái đích mong muốn.\n",
    "2. Chiến lược của MAX bị ảnh hưởng (phụ thuộc) vào các nước đi của MIN - và ngược lại.\n",
    "3. MAX cần chọn một chiến lược giúp cực đại hóa giá trị của hàm mục tiêu - với giả sử là MIN đi các nước đi tối ưu\n",
    "4. Chiến lược này được xác định bằng việc xét các giá trị MINIMAX đối với mỗi nút trong cây biểu diễn trò chơi.\n",
    "5. MAX chọn các nước đi tương ứng với giá trị MINIMAX cực đại (MIN chọn cá nước đi ứng với giá trị MINIMAX cực tiểu).  \n",
    "![](minimax.png)  \n",
    "#### 2.2.2. Hiệu suất\n",
    "- Với độ sâu là 1 và 2, tốc độ chạy tương đối nhanh\n",
    "- Với độ sâu là 3 và 4, tốc độ chạy giảm đi đáng kể, phải mất từ gần 1s đến khoảng 2s cho mỗi nước\n",
    "- Với độ sâu lớn hơn 5, do phải xét duyệt quá nhiều trường hợp khiến cho hệ thống quá tải và không thể phản hồi  "
   ]
  },
  {
   "cell_type": "markdown",
   "metadata": {},
   "source": [
    "### 2.3. Cắt tỉa Alpha-Beta\n",
    "#### 2.3.1. Định nghĩa\n",
    "Thuật toán Alpha-Beta là một cải tiến của thuật toán MINIMAX nhằm tỉa bớt nhánh của cây trò chơi, làm giảm số lượng nút phải sinh (mà không ảnh hưởng đến sự đánh giá đỉnh u) và lượng giá, do đó có thể tăng độ sâu của cây tìm kiếm.\n",
    "α là giá trị của nước đi tốt nhất đối với MAX(giá trị tối đa) tính đến hiện tại đối với nhánh tìm kiếm.\n",
    "β là giá trị của nước đi tốt nhất đối với MIN(giá trị tối thiểu) tính đến hiện tại đối với nhánh tìm kiếm.\n",
    "Điều kiện cắt tỉa trong thuật toán Alpha-Beta được xác định bởi giá trị của α và β. Khi giá trị của một nút con lớn hơn hoặc bằng β tại một nút MAX, hoặc nhỏ hơn hoặc bằng α tại một nút MIN, thì nhánh đó sẽ bị cắt tỉa và không cần phải tìm kiếm thêm. Điều này có nghĩa là, khi giá trị của một nút con không còn khả năng cải thiện giá trị tốt nhất hiện tại của MAX hoặc MIN, thì nhánh đó sẽ bị cắt tỉa để tiết kiệm thời gian tìm kiếm.\n",
    "![](alphabeta.png)  \n",
    "#### 2.3.2. Hiệu suất\n",
    "Với sự cải tiến từ thuật toán, có thể chạy được với độ sâu là 5 với tốc độ tương đối.\n",
    "AlphaBeta cải thiện hiệu suất đáng kể so với Minimax. Thuật toán chạy nhanh hơn khoảng 20 lần, đủ để ứng dụng vào bài toán."
   ]
  },
  {
   "cell_type": "markdown",
   "metadata": {
    "vscode": {
     "languageId": "plaintext"
    }
   },
   "source": [
    "## 3. Kết quả đạt được\n",
    "Nhóm đã xây dựng chương trình cờ vua chạy khá tốt, sử dụng 2 thuật toán Minimax và cắt tỉa Alpha-Beta, thực hiện ở 3 mức độ dễ, vừa và khó tương đương với độ sâu là 1, 2 và 3.\n",
    "Với các độ sâu lớn hơn , thời gian chạy lên đến hàng phút nên nhóm không đề cập đến. Một số hình ảnh về ứng dụng:\n",
    "- Giao diện khi vào trò chơi, người dùng sẽ chọn một trong hai chế độ:  \n",
    "![](start.png)  \n",
    "- Giao diện chọn độ khó: (Chọn độ sâu):    \n",
    "![](depth.png)   \n",
    "- Game play:  \n",
    "![](gameplay.png)  \n",
    "- End game:  \n",
    "![](end.png)  "
   ]
  },
  {
   "cell_type": "markdown",
   "metadata": {},
   "source": [
    "## 4. Kết luận\n",
    "Thuật toán Alpha-Beta giúp chúng ta tiết kiệm nhiều thời gian so với Minimax mà vẫn đảm bảo kết quả tìm kiếm chính xác. Tuy nhiên, lượng tiết kiệm này không ổn định – phụ thuộc vào số nút mà nó cắt bỏ. Trong trường hợp xấu nhất, thuật toán không cắt được một nhánh nào và phải xét số nút đúng bằng Minimax. Việc cắt bỏ nhanh hay chậm phụ thuộc vào độ rộng cửa sổ Alpha Beta. Do đó, cần sắp xếp các nút ở lá sao cho từ cao xuống thấp để tăng tốc độ chạy của thuật toán.\n",
    "Trong quá trình thực hiện bài tập lớn, nhóm đã đạt được các kết quả sau:\n",
    "- Hiểu được bài toán tìm kiếm đối kháng và các dạng tìm kiếm có chiều sâu cho trò chơi cờ vua\n",
    "- Vận dụng thành công các thuật toán đã học vào việc giải quyết những khó khăn trong xây dựng chương trình cờ vua.\n",
    "\n",
    "Hướng phát triển tiếp theo:\n",
    "- Sử dụng các thuật toán khác như Negamax, Monte Carlo Tree Search, học máy, học tăng cường và nhiều hơn nữa để giải quyết bài toán.\n",
    "- Tối ưu thời gian chạy của chương trình để cải thiện hiệu suất.\n",
    "\n",
    "### Lời cảm ơn\n",
    "Cuối cùng nhóm em xin chân thành cảm ơn TS. Đỗ Tiến Dũng đã tận tình hướng dẫn và giúp đỡ nhóm trong quá trình học tập cũng như thực hiện bài tập lớn này.\n",
    "\n",
    "### Tài liệu tham khảo\n",
    "- Bài giảng Nhập môn trí tuệ nhân tạo, Trường Công nghệ thông tin và Truyền thông,\n",
    "Đại Học Bách Khoa Hà Nội\n",
    "- Alpha Beta, https://www.chessprogramming.org/Alpha-Beta"
   ]
  }
 ],
 "metadata": {
  "language_info": {
   "name": "python"
  }
 },
 "nbformat": 4,
 "nbformat_minor": 2
}
