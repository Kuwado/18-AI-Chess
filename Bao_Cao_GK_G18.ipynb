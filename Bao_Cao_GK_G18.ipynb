{
 "cells": [
  {
   "cell_type": "markdown",
   "metadata": {},
   "source": [
    "# Báo cáo tiến độ giữa kỳ Project\n",
    "Lớp TTNT-147729, Nhóm G18"
   ]
  },
  {
   "cell_type": "markdown",
   "metadata": {},
   "source": [
    "## 1. Thông tin chung"
   ]
  },
  {
   "cell_type": "markdown",
   "metadata": {},
   "source": [
    "### Thành viên\n",
    "- Lưu Việt Hoàn 20215054\n",
    "- Hà Đình Nam 20215095\n",
    "- Phạm Hoàng Hải Nam 20215099\n",
    "- Vũ Minh Quân 20215128\n",
    "- Ngô Văn Thức 20215145"
   ]
  },
  {
   "cell_type": "markdown",
   "metadata": {},
   "source": [
    "### Lịch thực hiện\n",
    "- W25: Đăng ký nhóm (Đã đăng ký trên Teams 18/2)\n",
    "- W26: Đăng ký project (3/3)\n",
    "- W31: Tiến độ giữa kỳ (7/4)\n",
    "- W38: Hoàn thành project (26/5)\n",
    "- W39-41: thuyết trình"
   ]
  },
  {
   "cell_type": "markdown",
   "metadata": {},
   "source": [
    "## 2. Chi tiết báo cáo"
   ]
  },
  {
   "cell_type": "markdown",
   "metadata": {},
   "source": [
    "### Bài toán\n",
    "Xây dựng chương trình chơi cờ vua bằng trí tuệ nhân tạo"
   ]
  },
  {
   "cell_type": "markdown",
   "metadata": {},
   "source": [
    "### Chức năng ứng dụng\n",
    "Ứng dụng cho phép người chơi thi đấu cờ vua với máy ở 2 chế độ tương ứng với 2 thuật toán được áp dụng (Minimax và Alpha-Beta Pruning)"
   ]
  },
  {
   "cell_type": "markdown",
   "metadata": {},
   "source": [
    "### Phương pháp\n",
    "#### Chúng em sẽ áp dụng 2 thuật toán chính để xây dựng chương trình này, đó là thuật toán Minimax và Alpha-Beta Pruning:\n",
    "- **Minimax:** Duyệt qua cây trò chơi theo cách tuần tự, đổi màu giữa các bước lượt của hai người chơi. Khi đến một nút lá, giá trị của nút lá được tính dựa trên hàm đánh giá. Sau đó, giá trị của các nút cha được tính bằng cách chọn giá trị tối ưu giữa các nút con tương ứng với lượt chơi của bên chơi và giá trị tối thiểu của các nút con tương ứng với lượt chơi của đối thủ.\n",
    "- **Alpha-Beta Pruning:** Khi duyệt cây, nếu giá trị của một nút con đã xác định được (đủ lớn đối với bên chơi hoặc đủ nhỏ đối với đối thủ), ta có thể loại bỏ các trạng thái con khác và không cần kiểm tra chúng nữa. Điều này giúp giảm số lượng trạng thái cần kiểm tra, tăng tốc độ của thuật toán.Kỹ thuật Alpha-Beta giúp giảm thời gian tính toán so với Minimax bằng cách loại bỏ các trạng thái không cần thiết từ việc duyệt cây tìm kiếm."
   ]
  },
  {
   "cell_type": "markdown",
   "metadata": {},
   "source": [
    "### Phân công\n",
    "- Lưu Việt Hoàn: Triển khai thuật toán Minimax\n",
    "- Hà Đình Nam: Triển khai giao diện\n",
    "- Phạm Hoàng Hải Nam: Triển khai quy luật trò chơi\n",
    "- Vũ Minh Quân: Hỗ trợ phát triển quy luật trò chơi, kiểm thử và viết báo cáo\n",
    "- Ngô Văn Thức: Triển khai thuật toán Alpha-Beta Pruning"
   ]
  },
  {
   "cell_type": "markdown",
   "metadata": {},
   "source": [
    "### Tiến độ công việc\n",
    "- **Phần luật trò chơi:** Tương đối đã hoàn thành\n",
    "- **Phần giao diện:** Đã hoàn thành 60% (còn thiếu giao diện chọn chức năng, giao diện chính trước khi vào trò chơi) \n"
   ]
  }
 ],
 "metadata": {
  "language_info": {
   "name": "python"
  }
 },
 "nbformat": 4,
 "nbformat_minor": 2
}
