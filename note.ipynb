{
 "cells": [
  {
   "cell_type": "markdown",
   "metadata": {},
   "source": [
    "# ***Chú ý***"
   ]
  },
  {
   "cell_type": "markdown",
   "metadata": {},
   "source": [
    "Chú thích:  \n",
    "![](image_report/name.png)  \n",
    "| Tiếng Việt  | Tiếng Anh | Ký Hiệu   |\n",
    "|-------------|-----------|-----------|\n",
    "| **Vua**     | King      | K         |\n",
    "| **Hậu**     | Queen     | Q         |\n",
    "| **Xe**      | Rook      | R         |\n",
    "| **Tượng**   | Bishop    | B         |\n",
    "| **Mã**      | Knight    | N         |\n",
    "| **Tốt**     | Pawn      | P         |\n"
   ]
  },
  {
   "cell_type": "markdown",
   "metadata": {},
   "source": [
    "https://github.com/mikolaj-skrzypczak/chess-engine/tree/master/chess"
   ]
  },
  {
   "cell_type": "markdown",
   "metadata": {},
   "source": [
    "# **Công việc**\n",
    "\n",
    "- Xây dựng giao diện : Đình Nam\n",
    "- Xây dựng quy luật trò chơi : HNam\n",
    "- Xây dựng thuật toán Minimax : Hoàn\n",
    "- Xây dựng thuật toán cắt tỉa Alpha Beta\n",
    "- Viết báo cáo, slide : Quân "
   ]
  }
 ],
 "metadata": {
  "language_info": {
   "name": "python"
  }
 },
 "nbformat": 4,
 "nbformat_minor": 2
}
