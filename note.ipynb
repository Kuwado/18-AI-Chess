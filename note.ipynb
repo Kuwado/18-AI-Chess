{
 "cells": [
  {
   "cell_type": "markdown",
   "metadata": {},
   "source": [
    "# ***Chú ý***"
   ]
  },
  {
   "cell_type": "markdown",
   "metadata": {},
   "source": [
    "Chú thích:  \n",
    "![](image_report/name.png)  \n",
    "| Tiếng Việt  | Tiếng Anh | Ký Hiệu   |\n",
    "|-------------|-----------|-----------|\n",
    "| **Vua**     | King      | K         |\n",
    "| **Hậu**     | Queen     | Q         |\n",
    "| **Xe**      | Rook      | R         |\n",
    "| **Tượng**   | Bishop    | B         |\n",
    "| **Mã**      | Knight    | N         |\n",
    "| **Tốt**     | Pawn      | P         |\n"
   ]
  },
  {
   "cell_type": "markdown",
   "metadata": {},
   "source": [
    "https://github.com/mikolaj-skrzypczak/chess-engine/tree/master/chess"
   ]
  }
 ],
 "metadata": {
  "language_info": {
   "name": "python"
  }
 },
 "nbformat": 4,
 "nbformat_minor": 2
}
